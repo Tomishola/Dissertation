{
  "nbformat": 4,
  "nbformat_minor": 0,
  "metadata": {
    "colab": {
      "provenance": []
    },
    "kernelspec": {
      "name": "python3",
      "display_name": "Python 3"
    },
    "language_info": {
      "name": "python"
    }
  },
  "cells": [
    {
      "cell_type": "markdown",
      "source": [
        "Step 1: Data Preprocessing\n",
        "Load the Data:\n",
        "\n",
        "Load the news data and the three CSV files into your preferred data analysis tool (e.g., Python using pandas).\n",
        "Clean the Data:\n",
        "\n",
        "Handle missing values, remove duplicates, and correct any inconsistencies.\n",
        "For the news data, focus on the content column for text analysis."
      ],
      "metadata": {
        "id": "JNrmXOId8WM9"
      }
    },
    {
      "cell_type": "code",
      "execution_count": null,
      "metadata": {
        "colab": {
          "base_uri": "https://localhost:8080/"
        },
        "id": "Drz3bleGb5Ly",
        "outputId": "81daaf15-ea8a-4f6b-9555-6cdb4923b960"
      },
      "outputs": [
        {
          "output_type": "stream",
          "name": "stderr",
          "text": [
            "[nltk_data] Downloading package stopwords to /root/nltk_data...\n",
            "[nltk_data]   Unzipping corpora/stopwords.zip.\n",
            "[nltk_data] Downloading package punkt to /root/nltk_data...\n",
            "[nltk_data]   Unzipping tokenizers/punkt.zip.\n",
            "[nltk_data] Downloading package wordnet to /root/nltk_data...\n",
            "[nltk_data] Downloading package averaged_perceptron_tagger to\n",
            "[nltk_data]     /root/nltk_data...\n",
            "[nltk_data]   Unzipping taggers/averaged_perceptron_tagger.zip.\n"
          ]
        },
        {
          "output_type": "stream",
          "name": "stdout",
          "text": [
            "Mounted at /content/drive\n"
          ]
        }
      ],
      "source": [
        "import pandas as pd\n",
        "import numpy as np\n",
        "import matplotlib.pyplot as plt\n",
        "from matplotlib import style\n",
        "%matplotlib inline\n",
        "import seaborn as sns\n",
        "\n",
        "import itertools\n",
        "import re\n",
        "import string\n",
        "import pickle\n",
        "import os\n",
        "\n",
        "import nltk\n",
        "nltk.download('stopwords')\n",
        "nltk.download('punkt')\n",
        "nltk.download('wordnet')\n",
        "nltk.download('averaged_perceptron_tagger')\n",
        "\n",
        "from sklearn.linear_model import LogisticRegression\n",
        "from sklearn.naive_bayes import MultinomialNB\n",
        "from sklearn.svm import LinearSVC\n",
        "from sklearn.model_selection import train_test_split\n",
        "from sklearn.model_selection import cross_val_score\n",
        "from sklearn.metrics import accuracy_score, f1_score, make_scorer\n",
        "from sklearn.model_selection import KFold\n",
        "\n",
        "from sklearn.feature_extraction.text import CountVectorizer, TfidfVectorizer\n",
        "from collections import Counter\n",
        "from nltk.tokenize import word_tokenize\n",
        "from nltk.stem import WordNetLemmatizer, SnowballStemmer\n",
        "from nltk.corpus import stopwords, wordnet\n",
        "from wordcloud import WordCloud\n",
        "from copy import deepcopy\n",
        "\n",
        "from IPython.display import (\n",
        "    Markdown as md,\n",
        "    Latex,\n",
        "    HTML,\n",
        ")\n",
        "\n",
        "from tqdm.auto import tqdm\n",
        "import json\n",
        "\n",
        "# set plot style\n",
        "sns.set()\n",
        "\n",
        "from google.colab import drive\n",
        "\n",
        "drive.mount('/content/drive')"
      ]
    },
    {
      "cell_type": "code",
      "source": [
        "player_detail = pd.read_csv('/content/drive/MyDrive/nlp data/Copy of player_detail.csv')\n",
        "transfer_history = pd.read_csv('/content/drive/MyDrive/nlp data/Copy of tm_player_transfer_history.csv')\n",
        "player_market_value_development = pd.read_csv('/content/drive/MyDrive/nlp data/Copy of tm_player_market_value_development.csv')\n",
        "\n",
        "# miao_feed_all_docs = pd.read_csv('/content/drive/MyDrive/nlp data/Data/miao_feed_all_docs_dropped.csv')\n",
        "# news_feed_all_docs = pd.read_csv('/content/drive/MyDrive/nlp data/Data/news_feed_all_docs_dropped.csv')"
      ],
      "metadata": {
        "id": "lIWKu5OKcBH6"
      },
      "execution_count": null,
      "outputs": []
    },
    {
      "cell_type": "markdown",
      "source": [
        "## DEAL WITH PLAYER INFORMATION"
      ],
      "metadata": {
        "id": "do-ITxFZSj2m"
      }
    },
    {
      "cell_type": "markdown",
      "source": [
        "### Player Detail"
      ],
      "metadata": {
        "id": "7jY_tiGsS2iu"
      }
    },
    {
      "cell_type": "code",
      "source": [
        "player_detail.head(2)"
      ],
      "metadata": {
        "colab": {
          "base_uri": "https://localhost:8080/",
          "height": 164
        },
        "id": "XtjM-XtgTA06",
        "outputId": "46aa492f-e7b3-486a-9464-297486d4f683"
      },
      "execution_count": null,
      "outputs": [
        {
          "output_type": "execute_result",
          "data": {
            "text/plain": [
              "               Name  player_id         DOB   Age   Foot  Height (m)  \\\n",
              "0  Thibaut Courtois     108390  1992-05-11  31.0   left        2.00   \n",
              "1      Andriy Lunin     404839  1999-02-11  25.0  right        1.91   \n",
              "\n",
              "  Nationality  Citizenship    Position Other positions         Team  \\\n",
              "0     Belgium  ['Belgium']  Goalkeeper             NaN  Real Madrid   \n",
              "1     Ukraine  ['Ukraine']  Goalkeeper             NaN  Real Madrid   \n",
              "\n",
              "       Joined Contract expires  \n",
              "0  2018-08-09       2026-06-30  \n",
              "1  2018-07-01       2025-06-30  "
            ],
            "text/html": [
              "\n",
              "  <div id=\"df-f272e793-49e7-406a-877d-41a1df537112\" class=\"colab-df-container\">\n",
              "    <div>\n",
              "<style scoped>\n",
              "    .dataframe tbody tr th:only-of-type {\n",
              "        vertical-align: middle;\n",
              "    }\n",
              "\n",
              "    .dataframe tbody tr th {\n",
              "        vertical-align: top;\n",
              "    }\n",
              "\n",
              "    .dataframe thead th {\n",
              "        text-align: right;\n",
              "    }\n",
              "</style>\n",
              "<table border=\"1\" class=\"dataframe\">\n",
              "  <thead>\n",
              "    <tr style=\"text-align: right;\">\n",
              "      <th></th>\n",
              "      <th>Name</th>\n",
              "      <th>player_id</th>\n",
              "      <th>DOB</th>\n",
              "      <th>Age</th>\n",
              "      <th>Foot</th>\n",
              "      <th>Height (m)</th>\n",
              "      <th>Nationality</th>\n",
              "      <th>Citizenship</th>\n",
              "      <th>Position</th>\n",
              "      <th>Other positions</th>\n",
              "      <th>Team</th>\n",
              "      <th>Joined</th>\n",
              "      <th>Contract expires</th>\n",
              "    </tr>\n",
              "  </thead>\n",
              "  <tbody>\n",
              "    <tr>\n",
              "      <th>0</th>\n",
              "      <td>Thibaut Courtois</td>\n",
              "      <td>108390</td>\n",
              "      <td>1992-05-11</td>\n",
              "      <td>31.0</td>\n",
              "      <td>left</td>\n",
              "      <td>2.00</td>\n",
              "      <td>Belgium</td>\n",
              "      <td>['Belgium']</td>\n",
              "      <td>Goalkeeper</td>\n",
              "      <td>NaN</td>\n",
              "      <td>Real Madrid</td>\n",
              "      <td>2018-08-09</td>\n",
              "      <td>2026-06-30</td>\n",
              "    </tr>\n",
              "    <tr>\n",
              "      <th>1</th>\n",
              "      <td>Andriy Lunin</td>\n",
              "      <td>404839</td>\n",
              "      <td>1999-02-11</td>\n",
              "      <td>25.0</td>\n",
              "      <td>right</td>\n",
              "      <td>1.91</td>\n",
              "      <td>Ukraine</td>\n",
              "      <td>['Ukraine']</td>\n",
              "      <td>Goalkeeper</td>\n",
              "      <td>NaN</td>\n",
              "      <td>Real Madrid</td>\n",
              "      <td>2018-07-01</td>\n",
              "      <td>2025-06-30</td>\n",
              "    </tr>\n",
              "  </tbody>\n",
              "</table>\n",
              "</div>\n",
              "    <div class=\"colab-df-buttons\">\n",
              "\n",
              "  <div class=\"colab-df-container\">\n",
              "    <button class=\"colab-df-convert\" onclick=\"convertToInteractive('df-f272e793-49e7-406a-877d-41a1df537112')\"\n",
              "            title=\"Convert this dataframe to an interactive table.\"\n",
              "            style=\"display:none;\">\n",
              "\n",
              "  <svg xmlns=\"http://www.w3.org/2000/svg\" height=\"24px\" viewBox=\"0 -960 960 960\">\n",
              "    <path d=\"M120-120v-720h720v720H120Zm60-500h600v-160H180v160Zm220 220h160v-160H400v160Zm0 220h160v-160H400v160ZM180-400h160v-160H180v160Zm440 0h160v-160H620v160ZM180-180h160v-160H180v160Zm440 0h160v-160H620v160Z\"/>\n",
              "  </svg>\n",
              "    </button>\n",
              "\n",
              "  <style>\n",
              "    .colab-df-container {\n",
              "      display:flex;\n",
              "      gap: 12px;\n",
              "    }\n",
              "\n",
              "    .colab-df-convert {\n",
              "      background-color: #E8F0FE;\n",
              "      border: none;\n",
              "      border-radius: 50%;\n",
              "      cursor: pointer;\n",
              "      display: none;\n",
              "      fill: #1967D2;\n",
              "      height: 32px;\n",
              "      padding: 0 0 0 0;\n",
              "      width: 32px;\n",
              "    }\n",
              "\n",
              "    .colab-df-convert:hover {\n",
              "      background-color: #E2EBFA;\n",
              "      box-shadow: 0px 1px 2px rgba(60, 64, 67, 0.3), 0px 1px 3px 1px rgba(60, 64, 67, 0.15);\n",
              "      fill: #174EA6;\n",
              "    }\n",
              "\n",
              "    .colab-df-buttons div {\n",
              "      margin-bottom: 4px;\n",
              "    }\n",
              "\n",
              "    [theme=dark] .colab-df-convert {\n",
              "      background-color: #3B4455;\n",
              "      fill: #D2E3FC;\n",
              "    }\n",
              "\n",
              "    [theme=dark] .colab-df-convert:hover {\n",
              "      background-color: #434B5C;\n",
              "      box-shadow: 0px 1px 3px 1px rgba(0, 0, 0, 0.15);\n",
              "      filter: drop-shadow(0px 1px 2px rgba(0, 0, 0, 0.3));\n",
              "      fill: #FFFFFF;\n",
              "    }\n",
              "  </style>\n",
              "\n",
              "    <script>\n",
              "      const buttonEl =\n",
              "        document.querySelector('#df-f272e793-49e7-406a-877d-41a1df537112 button.colab-df-convert');\n",
              "      buttonEl.style.display =\n",
              "        google.colab.kernel.accessAllowed ? 'block' : 'none';\n",
              "\n",
              "      async function convertToInteractive(key) {\n",
              "        const element = document.querySelector('#df-f272e793-49e7-406a-877d-41a1df537112');\n",
              "        const dataTable =\n",
              "          await google.colab.kernel.invokeFunction('convertToInteractive',\n",
              "                                                    [key], {});\n",
              "        if (!dataTable) return;\n",
              "\n",
              "        const docLinkHtml = 'Like what you see? Visit the ' +\n",
              "          '<a target=\"_blank\" href=https://colab.research.google.com/notebooks/data_table.ipynb>data table notebook</a>'\n",
              "          + ' to learn more about interactive tables.';\n",
              "        element.innerHTML = '';\n",
              "        dataTable['output_type'] = 'display_data';\n",
              "        await google.colab.output.renderOutput(dataTable, element);\n",
              "        const docLink = document.createElement('div');\n",
              "        docLink.innerHTML = docLinkHtml;\n",
              "        element.appendChild(docLink);\n",
              "      }\n",
              "    </script>\n",
              "  </div>\n",
              "\n",
              "\n",
              "<div id=\"df-8c5ec8be-629f-42f5-b586-e15f01665a2e\">\n",
              "  <button class=\"colab-df-quickchart\" onclick=\"quickchart('df-8c5ec8be-629f-42f5-b586-e15f01665a2e')\"\n",
              "            title=\"Suggest charts\"\n",
              "            style=\"display:none;\">\n",
              "\n",
              "<svg xmlns=\"http://www.w3.org/2000/svg\" height=\"24px\"viewBox=\"0 0 24 24\"\n",
              "     width=\"24px\">\n",
              "    <g>\n",
              "        <path d=\"M19 3H5c-1.1 0-2 .9-2 2v14c0 1.1.9 2 2 2h14c1.1 0 2-.9 2-2V5c0-1.1-.9-2-2-2zM9 17H7v-7h2v7zm4 0h-2V7h2v10zm4 0h-2v-4h2v4z\"/>\n",
              "    </g>\n",
              "</svg>\n",
              "  </button>\n",
              "\n",
              "<style>\n",
              "  .colab-df-quickchart {\n",
              "      --bg-color: #E8F0FE;\n",
              "      --fill-color: #1967D2;\n",
              "      --hover-bg-color: #E2EBFA;\n",
              "      --hover-fill-color: #174EA6;\n",
              "      --disabled-fill-color: #AAA;\n",
              "      --disabled-bg-color: #DDD;\n",
              "  }\n",
              "\n",
              "  [theme=dark] .colab-df-quickchart {\n",
              "      --bg-color: #3B4455;\n",
              "      --fill-color: #D2E3FC;\n",
              "      --hover-bg-color: #434B5C;\n",
              "      --hover-fill-color: #FFFFFF;\n",
              "      --disabled-bg-color: #3B4455;\n",
              "      --disabled-fill-color: #666;\n",
              "  }\n",
              "\n",
              "  .colab-df-quickchart {\n",
              "    background-color: var(--bg-color);\n",
              "    border: none;\n",
              "    border-radius: 50%;\n",
              "    cursor: pointer;\n",
              "    display: none;\n",
              "    fill: var(--fill-color);\n",
              "    height: 32px;\n",
              "    padding: 0;\n",
              "    width: 32px;\n",
              "  }\n",
              "\n",
              "  .colab-df-quickchart:hover {\n",
              "    background-color: var(--hover-bg-color);\n",
              "    box-shadow: 0 1px 2px rgba(60, 64, 67, 0.3), 0 1px 3px 1px rgba(60, 64, 67, 0.15);\n",
              "    fill: var(--button-hover-fill-color);\n",
              "  }\n",
              "\n",
              "  .colab-df-quickchart-complete:disabled,\n",
              "  .colab-df-quickchart-complete:disabled:hover {\n",
              "    background-color: var(--disabled-bg-color);\n",
              "    fill: var(--disabled-fill-color);\n",
              "    box-shadow: none;\n",
              "  }\n",
              "\n",
              "  .colab-df-spinner {\n",
              "    border: 2px solid var(--fill-color);\n",
              "    border-color: transparent;\n",
              "    border-bottom-color: var(--fill-color);\n",
              "    animation:\n",
              "      spin 1s steps(1) infinite;\n",
              "  }\n",
              "\n",
              "  @keyframes spin {\n",
              "    0% {\n",
              "      border-color: transparent;\n",
              "      border-bottom-color: var(--fill-color);\n",
              "      border-left-color: var(--fill-color);\n",
              "    }\n",
              "    20% {\n",
              "      border-color: transparent;\n",
              "      border-left-color: var(--fill-color);\n",
              "      border-top-color: var(--fill-color);\n",
              "    }\n",
              "    30% {\n",
              "      border-color: transparent;\n",
              "      border-left-color: var(--fill-color);\n",
              "      border-top-color: var(--fill-color);\n",
              "      border-right-color: var(--fill-color);\n",
              "    }\n",
              "    40% {\n",
              "      border-color: transparent;\n",
              "      border-right-color: var(--fill-color);\n",
              "      border-top-color: var(--fill-color);\n",
              "    }\n",
              "    60% {\n",
              "      border-color: transparent;\n",
              "      border-right-color: var(--fill-color);\n",
              "    }\n",
              "    80% {\n",
              "      border-color: transparent;\n",
              "      border-right-color: var(--fill-color);\n",
              "      border-bottom-color: var(--fill-color);\n",
              "    }\n",
              "    90% {\n",
              "      border-color: transparent;\n",
              "      border-bottom-color: var(--fill-color);\n",
              "    }\n",
              "  }\n",
              "</style>\n",
              "\n",
              "  <script>\n",
              "    async function quickchart(key) {\n",
              "      const quickchartButtonEl =\n",
              "        document.querySelector('#' + key + ' button');\n",
              "      quickchartButtonEl.disabled = true;  // To prevent multiple clicks.\n",
              "      quickchartButtonEl.classList.add('colab-df-spinner');\n",
              "      try {\n",
              "        const charts = await google.colab.kernel.invokeFunction(\n",
              "            'suggestCharts', [key], {});\n",
              "      } catch (error) {\n",
              "        console.error('Error during call to suggestCharts:', error);\n",
              "      }\n",
              "      quickchartButtonEl.classList.remove('colab-df-spinner');\n",
              "      quickchartButtonEl.classList.add('colab-df-quickchart-complete');\n",
              "    }\n",
              "    (() => {\n",
              "      let quickchartButtonEl =\n",
              "        document.querySelector('#df-8c5ec8be-629f-42f5-b586-e15f01665a2e button');\n",
              "      quickchartButtonEl.style.display =\n",
              "        google.colab.kernel.accessAllowed ? 'block' : 'none';\n",
              "    })();\n",
              "  </script>\n",
              "</div>\n",
              "\n",
              "    </div>\n",
              "  </div>\n"
            ],
            "application/vnd.google.colaboratory.intrinsic+json": {
              "type": "dataframe",
              "variable_name": "player_detail",
              "summary": "{\n  \"name\": \"player_detail\",\n  \"rows\": 20415,\n  \"fields\": [\n    {\n      \"column\": \"Name\",\n      \"properties\": {\n        \"dtype\": \"string\",\n        \"num_unique_values\": 19784,\n        \"samples\": [\n          \"Emre Bilgin\",\n          \"Dion Lopy\",\n          \"Anton Shunin\"\n        ],\n        \"semantic_type\": \"\",\n        \"description\": \"\"\n      }\n    },\n    {\n      \"column\": \"player_id\",\n      \"properties\": {\n        \"dtype\": \"number\",\n        \"std\": 292342,\n        \"min\": 215,\n        \"max\": 1260503,\n        \"num_unique_values\": 20318,\n        \"samples\": [\n          213865,\n          62094,\n          665971\n        ],\n        \"semantic_type\": \"\",\n        \"description\": \"\"\n      }\n    },\n    {\n      \"column\": \"DOB\",\n      \"properties\": {\n        \"dtype\": \"object\",\n        \"num_unique_values\": 6584,\n        \"samples\": [\n          \"1998-09-28\",\n          \"2004-08-08\",\n          \"2003-10-25\"\n        ],\n        \"semantic_type\": \"\",\n        \"description\": \"\"\n      }\n    },\n    {\n      \"column\": \"Age\",\n      \"properties\": {\n        \"dtype\": \"number\",\n        \"std\": 4.814388629976268,\n        \"min\": 15.0,\n        \"max\": 64.0,\n        \"num_unique_values\": 32,\n        \"samples\": [\n          57.0,\n          33.0,\n          39.0\n        ],\n        \"semantic_type\": \"\",\n        \"description\": \"\"\n      }\n    },\n    {\n      \"column\": \"Foot\",\n      \"properties\": {\n        \"dtype\": \"category\",\n        \"num_unique_values\": 3,\n        \"samples\": [\n          \"left\",\n          \"right\",\n          \"both\"\n        ],\n        \"semantic_type\": \"\",\n        \"description\": \"\"\n      }\n    },\n    {\n      \"column\": \"Height (m)\",\n      \"properties\": {\n        \"dtype\": \"number\",\n        \"std\": 0.06952960704842118,\n        \"min\": 1.56,\n        \"max\": 2.06,\n        \"num_unique_values\": 50,\n        \"samples\": [\n          1.75,\n          2.05,\n          1.66\n        ],\n        \"semantic_type\": \"\",\n        \"description\": \"\"\n      }\n    },\n    {\n      \"column\": \"Nationality\",\n      \"properties\": {\n        \"dtype\": \"category\",\n        \"num_unique_values\": 154,\n        \"samples\": [\n          \"Netherlands\",\n          \"Korea, South\",\n          \"Sint Maarten\"\n        ],\n        \"semantic_type\": \"\",\n        \"description\": \"\"\n      }\n    },\n    {\n      \"column\": \"Citizenship\",\n      \"properties\": {\n        \"dtype\": \"category\",\n        \"num_unique_values\": 1200,\n        \"samples\": [\n          \"['Bahrain']\",\n          \"['Colombia', 'United States']\",\n          \"['Romania', 'Canada']\"\n        ],\n        \"semantic_type\": \"\",\n        \"description\": \"\"\n      }\n    },\n    {\n      \"column\": \"Position\",\n      \"properties\": {\n        \"dtype\": \"category\",\n        \"num_unique_values\": 16,\n        \"samples\": [\n          \"Goalkeeper\",\n          \"Centre-Back\",\n          \"Central Midfield\"\n        ],\n        \"semantic_type\": \"\",\n        \"description\": \"\"\n      }\n    },\n    {\n      \"column\": \"Other positions\",\n      \"properties\": {\n        \"dtype\": \"category\",\n        \"num_unique_values\": 13,\n        \"samples\": [\n          \"Right Midfield\",\n          \"Left Midfield\",\n          \"Right-Back\"\n        ],\n        \"semantic_type\": \"\",\n        \"description\": \"\"\n      }\n    },\n    {\n      \"column\": \"Team\",\n      \"properties\": {\n        \"dtype\": \"category\",\n        \"num_unique_values\": 914,\n        \"samples\": [\n          \"CA Progreso\",\n          \"NK Varazdin\",\n          \"Club Atl\\u00e9tico Tigre II\"\n        ],\n        \"semantic_type\": \"\",\n        \"description\": \"\"\n      }\n    },\n    {\n      \"column\": \"Joined\",\n      \"properties\": {\n        \"dtype\": \"object\",\n        \"num_unique_values\": 1492,\n        \"samples\": [\n          \"2022-02-25\",\n          \"2022-06-21\",\n          \"2019-11-20\"\n        ],\n        \"semantic_type\": \"\",\n        \"description\": \"\"\n      }\n    },\n    {\n      \"column\": \"Contract expires\",\n      \"properties\": {\n        \"dtype\": \"object\",\n        \"num_unique_values\": 147,\n        \"samples\": [\n          \"2025-01-15\",\n          \"2026-03-31\",\n          \"2025-07-14\"\n        ],\n        \"semantic_type\": \"\",\n        \"description\": \"\"\n      }\n    }\n  ]\n}"
            }
          },
          "metadata": {},
          "execution_count": 3
        }
      ]
    },
    {
      "cell_type": "code",
      "source": [
        "player_detail.info()"
      ],
      "metadata": {
        "colab": {
          "base_uri": "https://localhost:8080/"
        },
        "id": "WacLmGWhTABH",
        "outputId": "7a3c469d-85bc-47d4-fc0e-3d4c2f8ee9e0"
      },
      "execution_count": null,
      "outputs": [
        {
          "output_type": "stream",
          "name": "stdout",
          "text": [
            "<class 'pandas.core.frame.DataFrame'>\n",
            "Index: 20319 entries, 0 to 20414\n",
            "Data columns (total 13 columns):\n",
            " #   Column            Non-Null Count  Dtype         \n",
            "---  ------            --------------  -----         \n",
            " 0   Name              20319 non-null  object        \n",
            " 1   player_id         20319 non-null  int64         \n",
            " 2   DOB               20319 non-null  datetime64[ns]\n",
            " 3   Age               20319 non-null  float64       \n",
            " 4   Foot              20319 non-null  object        \n",
            " 5   Height_m          20319 non-null  float64       \n",
            " 6   Nationality       20319 non-null  object        \n",
            " 7   Citizenship       20319 non-null  object        \n",
            " 8   Position          20319 non-null  object        \n",
            " 9   Other positions   20319 non-null  object        \n",
            " 10  Team              20319 non-null  object        \n",
            " 11  Joined            20319 non-null  datetime64[ns]\n",
            " 12  Contract expires  20319 non-null  datetime64[ns]\n",
            "dtypes: datetime64[ns](3), float64(2), int64(1), object(7)\n",
            "memory usage: 2.2+ MB\n"
          ]
        }
      ]
    },
    {
      "cell_type": "code",
      "source": [
        "player_detail.isnull().sum()"
      ],
      "metadata": {
        "colab": {
          "base_uri": "https://localhost:8080/"
        },
        "id": "xNTFU5seTWCC",
        "outputId": "2c87f650-ce80-4c52-e084-e1dd97c07a13"
      },
      "execution_count": null,
      "outputs": [
        {
          "output_type": "execute_result",
          "data": {
            "text/plain": [
              "Name                   0\n",
              "player_id              0\n",
              "DOB                    3\n",
              "Age                    3\n",
              "Foot                1885\n",
              "Height (m)           853\n",
              "Nationality            0\n",
              "Citizenship            0\n",
              "Position               0\n",
              "Other positions     6561\n",
              "Team                   0\n",
              "Joined               134\n",
              "Contract expires    2712\n",
              "dtype: int64"
            ]
          },
          "metadata": {},
          "execution_count": 7
        }
      ]
    },
    {
      "cell_type": "code",
      "source": [
        "# Cleaning player_details\n",
        "player_detail['DOB'].fillna('1900-01-01', inplace=True)\n",
        "player_detail['Age'].fillna(player_detail['Age'].mean(), inplace=True)\n",
        "player_detail['Foot'].fillna('Unknown', inplace=True)\n",
        "player_detail['Height (m)'].fillna(player_detail['Height (m)'].mean(), inplace=True)\n",
        "player_detail['Other positions'].fillna('None', inplace=True)\n",
        "player_detail['Joined'].fillna('1900-01-01', inplace=True)\n",
        "player_detail['Contract expires'].fillna('1900-01-01', inplace=True)\n",
        "\n",
        "# Convert DOB, Joined, and Contract expires to datetime\n",
        "player_detail['DOB'] = pd.to_datetime(player_detail['DOB'])\n",
        "player_detail['Joined'] = pd.to_datetime(player_detail['Joined'])\n",
        "player_detail['Contract expires'] = pd.to_datetime(player_detail['Contract expires'])"
      ],
      "metadata": {
        "id": "2rLzEwbqTPKB"
      },
      "execution_count": null,
      "outputs": []
    },
    {
      "cell_type": "code",
      "source": [
        "# Filter rows where both DOB and Age are null\n",
        "# null_dob_age = player_detail[player_detail['DOB'].isnull() & player_detail['Age'].isnull()]\n",
        "\n",
        "# null_dob_age.head(6)"
      ],
      "metadata": {
        "colab": {
          "base_uri": "https://localhost:8080/",
          "height": 53
        },
        "collapsed": true,
        "id": "Tr_oN_6pVh95",
        "outputId": "1c4783ec-54e6-4f40-d879-8f8946f9957a"
      },
      "execution_count": null,
      "outputs": [
        {
          "output_type": "execute_result",
          "data": {
            "text/plain": [
              "Empty DataFrame\n",
              "Columns: [Name, player_id, DOB, Age, Foot, Height (m), Nationality, Citizenship, Position, Other positions, Team, Joined, Contract expires]\n",
              "Index: []"
            ],
            "text/html": [
              "\n",
              "  <div id=\"df-90f1d3f0-af43-4c38-91f8-3b6d23ad3d69\" class=\"colab-df-container\">\n",
              "    <div>\n",
              "<style scoped>\n",
              "    .dataframe tbody tr th:only-of-type {\n",
              "        vertical-align: middle;\n",
              "    }\n",
              "\n",
              "    .dataframe tbody tr th {\n",
              "        vertical-align: top;\n",
              "    }\n",
              "\n",
              "    .dataframe thead th {\n",
              "        text-align: right;\n",
              "    }\n",
              "</style>\n",
              "<table border=\"1\" class=\"dataframe\">\n",
              "  <thead>\n",
              "    <tr style=\"text-align: right;\">\n",
              "      <th></th>\n",
              "      <th>Name</th>\n",
              "      <th>player_id</th>\n",
              "      <th>DOB</th>\n",
              "      <th>Age</th>\n",
              "      <th>Foot</th>\n",
              "      <th>Height (m)</th>\n",
              "      <th>Nationality</th>\n",
              "      <th>Citizenship</th>\n",
              "      <th>Position</th>\n",
              "      <th>Other positions</th>\n",
              "      <th>Team</th>\n",
              "      <th>Joined</th>\n",
              "      <th>Contract expires</th>\n",
              "    </tr>\n",
              "  </thead>\n",
              "  <tbody>\n",
              "  </tbody>\n",
              "</table>\n",
              "</div>\n",
              "    <div class=\"colab-df-buttons\">\n",
              "\n",
              "  <div class=\"colab-df-container\">\n",
              "    <button class=\"colab-df-convert\" onclick=\"convertToInteractive('df-90f1d3f0-af43-4c38-91f8-3b6d23ad3d69')\"\n",
              "            title=\"Convert this dataframe to an interactive table.\"\n",
              "            style=\"display:none;\">\n",
              "\n",
              "  <svg xmlns=\"http://www.w3.org/2000/svg\" height=\"24px\" viewBox=\"0 -960 960 960\">\n",
              "    <path d=\"M120-120v-720h720v720H120Zm60-500h600v-160H180v160Zm220 220h160v-160H400v160Zm0 220h160v-160H400v160ZM180-400h160v-160H180v160Zm440 0h160v-160H620v160ZM180-180h160v-160H180v160Zm440 0h160v-160H620v160Z\"/>\n",
              "  </svg>\n",
              "    </button>\n",
              "\n",
              "  <style>\n",
              "    .colab-df-container {\n",
              "      display:flex;\n",
              "      gap: 12px;\n",
              "    }\n",
              "\n",
              "    .colab-df-convert {\n",
              "      background-color: #E8F0FE;\n",
              "      border: none;\n",
              "      border-radius: 50%;\n",
              "      cursor: pointer;\n",
              "      display: none;\n",
              "      fill: #1967D2;\n",
              "      height: 32px;\n",
              "      padding: 0 0 0 0;\n",
              "      width: 32px;\n",
              "    }\n",
              "\n",
              "    .colab-df-convert:hover {\n",
              "      background-color: #E2EBFA;\n",
              "      box-shadow: 0px 1px 2px rgba(60, 64, 67, 0.3), 0px 1px 3px 1px rgba(60, 64, 67, 0.15);\n",
              "      fill: #174EA6;\n",
              "    }\n",
              "\n",
              "    .colab-df-buttons div {\n",
              "      margin-bottom: 4px;\n",
              "    }\n",
              "\n",
              "    [theme=dark] .colab-df-convert {\n",
              "      background-color: #3B4455;\n",
              "      fill: #D2E3FC;\n",
              "    }\n",
              "\n",
              "    [theme=dark] .colab-df-convert:hover {\n",
              "      background-color: #434B5C;\n",
              "      box-shadow: 0px 1px 3px 1px rgba(0, 0, 0, 0.15);\n",
              "      filter: drop-shadow(0px 1px 2px rgba(0, 0, 0, 0.3));\n",
              "      fill: #FFFFFF;\n",
              "    }\n",
              "  </style>\n",
              "\n",
              "    <script>\n",
              "      const buttonEl =\n",
              "        document.querySelector('#df-90f1d3f0-af43-4c38-91f8-3b6d23ad3d69 button.colab-df-convert');\n",
              "      buttonEl.style.display =\n",
              "        google.colab.kernel.accessAllowed ? 'block' : 'none';\n",
              "\n",
              "      async function convertToInteractive(key) {\n",
              "        const element = document.querySelector('#df-90f1d3f0-af43-4c38-91f8-3b6d23ad3d69');\n",
              "        const dataTable =\n",
              "          await google.colab.kernel.invokeFunction('convertToInteractive',\n",
              "                                                    [key], {});\n",
              "        if (!dataTable) return;\n",
              "\n",
              "        const docLinkHtml = 'Like what you see? Visit the ' +\n",
              "          '<a target=\"_blank\" href=https://colab.research.google.com/notebooks/data_table.ipynb>data table notebook</a>'\n",
              "          + ' to learn more about interactive tables.';\n",
              "        element.innerHTML = '';\n",
              "        dataTable['output_type'] = 'display_data';\n",
              "        await google.colab.output.renderOutput(dataTable, element);\n",
              "        const docLink = document.createElement('div');\n",
              "        docLink.innerHTML = docLinkHtml;\n",
              "        element.appendChild(docLink);\n",
              "      }\n",
              "    </script>\n",
              "  </div>\n",
              "\n",
              "\n",
              "    </div>\n",
              "  </div>\n"
            ],
            "application/vnd.google.colaboratory.intrinsic+json": {
              "type": "dataframe",
              "variable_name": "null_dob_age",
              "repr_error": "Out of range float values are not JSON compliant: nan"
            }
          },
          "metadata": {},
          "execution_count": 6
        }
      ]
    },
    {
      "cell_type": "markdown",
      "source": [
        "### PLAYER TRANSFER HISTORY\n"
      ],
      "metadata": {
        "id": "TYCCUoCPUIH_"
      }
    },
    {
      "cell_type": "code",
      "source": [
        "# Cleaning transfer_history\n",
        "# transfer_history['from_latitude'].fillna(0, inplace=True)\n",
        "# transfer_history['from_longitude'].fillna(0, inplace=True)\n",
        "# transfer_history['to_latitude'].fillna(0, inplace=True)\n",
        "# transfer_history['to_longitude'].fillna(0, inplace=True)\n",
        "transfer_history['date'].fillna('1900-01-01', inplace=True)\n",
        "transfer_history['season'].fillna('Unknown', inplace=True)\n",
        "transfer_history['fee'].fillna('Unknown', inplace=True)\n",
        "transfer_history['Transfer Fee'].fillna(transfer_history['Transfer Fee'].mean(), inplace=True)\n",
        "\n",
        "# Convert date and dateUnformatted to datetime\n",
        "transfer_history['date'] = pd.to_datetime(transfer_history['date'])\n",
        "# transfer_history['dateUnformatted'] = pd.to_datetime(transfer_history['dateUnformatted'])"
      ],
      "metadata": {
        "id": "amvB1n3IUcKQ"
      },
      "execution_count": null,
      "outputs": []
    },
    {
      "cell_type": "code",
      "source": [
        "def fill_zero_coordinates(df, tolerance=1e-6):\n",
        "    # Function to count zeros in the DataFrame\n",
        "    def count_zeros(df):\n",
        "        zero_from_lat = (df['from_latitude'].abs() < tolerance).sum()\n",
        "        zero_from_lon = (df['from_longitude'].abs() < tolerance).sum()\n",
        "        zero_to_lat = (df['to_latitude'].abs() < tolerance).sum()\n",
        "        zero_to_lon = (df['to_longitude'].abs() < tolerance).sum()\n",
        "        return zero_from_lat, zero_from_lon, zero_to_lat, zero_to_lon\n",
        "\n",
        "    # Count zeros before filling\n",
        "    before_zeros = count_zeros(df)\n",
        "    print(\"Number of zeros before filling:\")\n",
        "    print(f\"from_latitude: {before_zeros[0]}, from_longitude: {before_zeros[1]}, to_latitude: {before_zeros[2]}, to_longitude: {before_zeros[3]}\")\n",
        "\n",
        "    # Identify zero coordinates\n",
        "    zero_from_lat = df['from_latitude'].abs() < tolerance\n",
        "    zero_from_lon = df['from_longitude'].abs() < tolerance\n",
        "    zero_to_lat = df['to_latitude'].abs() < tolerance\n",
        "    zero_to_lon = df['to_longitude'].abs() < tolerance\n",
        "\n",
        "    # Replace zero coordinates with NaN for easier processing\n",
        "    df.loc[zero_from_lat, 'from_latitude'] = np.nan\n",
        "    df.loc[zero_from_lon, 'from_longitude'] = np.nan\n",
        "    df.loc[zero_to_lat, 'to_latitude'] = np.nan\n",
        "    df.loc[zero_to_lon, 'to_longitude'] = np.nan\n",
        "\n",
        "    # Function to get main club name by stripping common feeder team suffixes\n",
        "    def get_main_club_name(club_name):\n",
        "        # List of common feeder team suffixes to strip\n",
        "        common_suffixes = ['U19', 'U17', 'Youth', 'B', 'C', 'II', 'Reserves']\n",
        "        # Iterate through suffixes and remove them from club_name\n",
        "        for suffix in common_suffixes:\n",
        "            club_name = re.sub(rf'\\b{suffix}\\b', '', club_name, flags=re.IGNORECASE).strip()\n",
        "        return club_name\n",
        "\n",
        "    # Apply the function to both 'from' and 'to' club names\n",
        "    df['main_from_clubName'] = df['from_clubName'].apply(get_main_club_name)\n",
        "    df['main_to_clubName'] = df['to_clubName'].apply(get_main_club_name)\n",
        "\n",
        "    # Create a combined DataFrame to fill coordinates\n",
        "    combined_from = df[['main_from_clubName', 'from_latitude', 'from_longitude']].copy()\n",
        "    combined_from.rename(columns={'main_from_clubName': 'clubName', 'from_latitude': 'latitude', 'from_longitude': 'longitude'}, inplace=True)\n",
        "\n",
        "    combined_to = df[['main_to_clubName', 'to_latitude', 'to_longitude']].copy()\n",
        "    combined_to.rename(columns={'main_to_clubName': 'clubName', 'to_latitude': 'latitude', 'to_longitude': 'longitude'}, inplace=True)\n",
        "\n",
        "    combined = pd.concat([combined_from, combined_to], ignore_index=True)\n",
        "\n",
        "    # Fill NaN values with the mean of the respective club's coordinates\n",
        "    combined['latitude'] = combined.groupby('clubName')['latitude'].transform(lambda x: x.fillna(x.mean()))\n",
        "    combined['longitude'] = combined.groupby('clubName')['longitude'].transform(lambda x: x.fillna(x.mean()))\n",
        "\n",
        "    # Fill any remaining NaNs with zero (in case there are clubs with only NaNs)\n",
        "    combined['latitude'].fillna(0, inplace=True)\n",
        "    combined['longitude'].fillna(0, inplace=True)\n",
        "\n",
        "    # Debug prints to check the filled results\n",
        "    print(\"Combined DataFrame with filled NaNs:\")\n",
        "    print(combined)\n",
        "\n",
        "    # Split the combined DataFrame back into from and to parts\n",
        "    filled_from = combined.iloc[:len(df)]\n",
        "    filled_to = combined.iloc[len(df):]\n",
        "\n",
        "    # Merge the filled coordinates back into the original DataFrame\n",
        "    df['from_latitude'] = filled_from['latitude'].values\n",
        "    df['from_longitude'] = filled_from['longitude'].values\n",
        "    df['to_latitude'] = filled_to['latitude'].values\n",
        "    df['to_longitude'] = filled_to['longitude'].values\n",
        "\n",
        "    # Count zeros after filling\n",
        "    after_zeros = count_zeros(df)\n",
        "    print(\"Number of zeros after filling:\")\n",
        "    print(f\"from_latitude: {after_zeros[0]}, from_longitude: {after_zeros[1]}, to_latitude: {after_zeros[2]}, to_longitude: {after_zeros[3]}\")\n",
        "\n",
        "    return df"
      ],
      "metadata": {
        "id": "DYKWl2tuQdzc"
      },
      "execution_count": null,
      "outputs": []
    },
    {
      "cell_type": "code",
      "source": [
        "transfer_history_filled = fill_zero_coordinates(transfer_history)"
      ],
      "metadata": {
        "id": "KSqOy_d1HpLF",
        "colab": {
          "base_uri": "https://localhost:8080/"
        },
        "outputId": "0accf1df-eeac-452b-eea5-a63a1ac042e4"
      },
      "execution_count": null,
      "outputs": [
        {
          "output_type": "stream",
          "name": "stdout",
          "text": [
            "Number of zeros before filling:\n",
            "from_latitude: 20340, from_longitude: 20340, to_latitude: 10557, to_longitude: 10557\n",
            "Combined DataFrame with filled NaNs:\n",
            "               clubName   latitude  longitude\n",
            "0               Chelsea  51.477520  -0.201590\n",
            "1       Atlético Madrid  40.401730  -3.720635\n",
            "2               Chelsea  51.477520  -0.201590\n",
            "3              KRC Genk  51.005026   5.533332\n",
            "4              KRC Genk  51.005026   5.533332\n",
            "...                 ...        ...        ...\n",
            "302867   ACSM Poli Iasi  47.186059  27.562736\n",
            "302868   ACSM Poli Iasi  47.186059  27.562736\n",
            "302869     FV Eppelborn  49.403136   6.970649\n",
            "302870   ACSM Poli Iasi  47.186059  27.562736\n",
            "302871     Rapid Brodoc  46.639394  27.730951\n",
            "\n",
            "[302872 rows x 3 columns]\n",
            "Number of zeros after filling:\n",
            "from_latitude: 15121, from_longitude: 15121, to_latitude: 7585, to_longitude: 7585\n"
          ]
        }
      ]
    },
    {
      "cell_type": "code",
      "source": [
        "# Fill missing 'date' values with 'dateUnformatted'\n",
        "transfer_history_filled['date'] = transfer_history_filled['date'].fillna(transfer_history_filled['dateUnformatted'])\n",
        "\n",
        "# Fill missing 'Transfer Fee' and 'fee' values with zero\n",
        "transfer_history_filled['Transfer Fee'] = transfer_history_filled['Transfer Fee'].fillna(0)\n",
        "transfer_history_filled['fee'] = transfer_history_filled['fee'].fillna(0)"
      ],
      "metadata": {
        "id": "L3wRsW51IAaq"
      },
      "execution_count": null,
      "outputs": []
    },
    {
      "cell_type": "code",
      "source": [
        "# Convert datum_mw, highest_date, and last_change to datetime\n",
        "player_market_value_development['datum_mw'] = pd.to_datetime(player_market_value_development['datum_mw'])\n",
        "player_market_value_development['highest_date'] = pd.to_datetime(player_market_value_development['highest_date'])\n",
        "player_market_value_development['last_change'] = pd.to_datetime(player_market_value_development['last_change'])"
      ],
      "metadata": {
        "id": "Fdg8j2XEzafq"
      },
      "execution_count": null,
      "outputs": []
    },
    {
      "cell_type": "code",
      "source": [
        "# Remove duplicates\n",
        "player_detail.drop_duplicates(inplace=True)\n",
        "transfer_history.drop_duplicates(inplace=True)\n",
        "player_market_value_development.drop_duplicates(inplace=True)"
      ],
      "metadata": {
        "id": "kFLZZMHDVelR"
      },
      "execution_count": null,
      "outputs": []
    },
    {
      "cell_type": "code",
      "source": [
        "# Optionally rename columns\n",
        "player_detail.rename(columns={'Height (m)': 'Height_m'}, inplace=True)\n",
        "transfer_history.rename(columns={'Transfer Fee': 'Transfer_Fee'}, inplace=True)\n",
        "player_market_value_development.rename(columns={'Highest market value': 'Highest_market_value'}, inplace=True)"
      ],
      "metadata": {
        "id": "X0mvxDY0Vhs0"
      },
      "execution_count": null,
      "outputs": []
    },
    {
      "cell_type": "code",
      "source": [
        "player_detail.to_csv('/content/drive/MyDrive/nlp data/Data/player_detail_cleaned.csv')\n",
        "transfer_history.to_csv('/content/drive/MyDrive/nlp data/Data/transfer_history_cleaned.csv')\n",
        "player_market_value_development.to_csv('/content/drive/MyDrive/nlp data/Data/player_market_value_development_cleaned')"
      ],
      "metadata": {
        "id": "xGbfOf_YVyyL"
      },
      "execution_count": null,
      "outputs": []
    },
    {
      "cell_type": "markdown",
      "source": [],
      "metadata": {
        "id": "RkUzcl_6bUuI"
      }
    },
    {
      "cell_type": "code",
      "source": [
        "player_market_value_development.info()"
      ],
      "metadata": {
        "colab": {
          "base_uri": "https://localhost:8080/"
        },
        "id": "xos0Vy3zbW6M",
        "outputId": "929ecd07-b533-450d-d6bf-cd309fdf3bd0"
      },
      "execution_count": null,
      "outputs": [
        {
          "output_type": "stream",
          "name": "stdout",
          "text": [
            "<class 'pandas.core.frame.DataFrame'>\n",
            "RangeIndex: 280334 entries, 0 to 280333\n",
            "Data columns (total 8 columns):\n",
            " #   Column                Non-Null Count   Dtype  \n",
            "---  ------                --------------   -----  \n",
            " 0   mw                    280334 non-null  float64\n",
            " 1   datum_mw              280334 non-null  object \n",
            " 2   verein                280334 non-null  object \n",
            " 3   age                   280334 non-null  int64  \n",
            " 4   player_id             280334 non-null  int64  \n",
            " 5   Highest market value  280334 non-null  float64\n",
            " 6   highest_date          280334 non-null  object \n",
            " 7   last_change           280334 non-null  object \n",
            "dtypes: float64(2), int64(2), object(4)\n",
            "memory usage: 17.1+ MB\n"
          ]
        }
      ]
    },
    {
      "cell_type": "code",
      "source": [],
      "metadata": {
        "id": "G82foVvPbcBF"
      },
      "execution_count": null,
      "outputs": []
    }
  ]
}